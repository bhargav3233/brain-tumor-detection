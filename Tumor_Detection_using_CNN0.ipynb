{
  "cells": [
    {
      "cell_type": "code",
      "execution_count": 1,
      "metadata": {
        "colab": {
          "base_uri": "https://localhost:8080/"
        },
        "id": "tunZnUDgf_1N",
        "outputId": "30a7f988-7d5e-4ba4-e9c0-88d94dcbf38e"
      },
      "outputs": [
        {
          "output_type": "stream",
          "name": "stdout",
          "text": [
            "Drive already mounted at /content/drive; to attempt to forcibly remount, call drive.mount(\"/content/drive\", force_remount=True).\n"
          ]
        }
      ],
      "source": [
        "from google.colab import drive\n",
        "drive.mount('/content/drive')"
      ]
    },
    {
      "cell_type": "code",
      "execution_count": 2,
      "metadata": {
        "id": "rReRdbcuiGwJ"
      },
      "outputs": [],
      "source": [
        "from tensorflow.keras.layers import Input, Lambda, Dense, Flatten,Conv2D\n",
        "from tensorflow.keras.models import Model\n",
        "from tensorflow.keras.applications.vgg19 import VGG19\n",
        "from tensorflow.keras.applications.resnet50 import preprocess_input\n",
        "from tensorflow.keras.preprocessing import image\n",
        "#from tensorflow.keras.preprocessing.image import ImageDataGenerator,load_img\n",
        "from tensorflow.keras.models import Sequential\n",
        "import numpy as np\n",
        "from glob import glob\n",
        "import matplotlib.pyplot as plt"
      ]
    },
    {
      "cell_type": "code",
      "execution_count": 3,
      "metadata": {
        "id": "3_NJNCv0iG1a"
      },
      "outputs": [],
      "source": [
        "# re-size all the images to this\n",
        "IMAGE_SIZE = [224, 224]"
      ]
    },
    {
      "cell_type": "code",
      "execution_count": 4,
      "metadata": {
        "id": "PYWhC-14wIt7"
      },
      "outputs": [],
      "source": [
        "train = '/content/drive/MyDrive/Tumor'\n",
        "test = '/content/drive/MyDrive/BrainTumorMRI/Tumor'"
      ]
    },
    {
      "cell_type": "code",
      "execution_count": 5,
      "metadata": {
        "id": "OCfIrKo-jQj6"
      },
      "outputs": [],
      "source": [
        "#path :\n",
        "\n",
        "#data_path='/content/drive/MyDrive/Colab Notebooks/Data/MAJOR PROJECT/AugumentedData/'\n",
        "\n",
        "#yes = data_path+'yes'\n",
        "\n",
        "#no = data_path+'no'"
      ]
    },
    {
      "cell_type": "code",
      "execution_count": 6,
      "metadata": {
        "id": "kZUwsEpOjQw3",
        "colab": {
          "base_uri": "https://localhost:8080/"
        },
        "outputId": "03a889f5-0315-4787-e96e-88a928e5d07b"
      },
      "outputs": [
        {
          "output_type": "stream",
          "name": "stdout",
          "text": [
            "Downloading data from https://storage.googleapis.com/tensorflow/keras-applications/vgg19/vgg19_weights_tf_dim_ordering_tf_kernels_notop.h5\n",
            "80142336/80134624 [==============================] - 0s 0us/step\n",
            "80150528/80134624 [==============================] - 0s 0us/step\n"
          ]
        }
      ],
      "source": [
        "#importing the vgg 19 and by default i'm using the imagenet weights \n",
        "\n",
        "vgg = VGG19(input_shape=IMAGE_SIZE+[3],include_top=False)"
      ]
    },
    {
      "cell_type": "code",
      "execution_count": 7,
      "metadata": {
        "id": "Aut2rUM5jQ29"
      },
      "outputs": [],
      "source": [
        "#don't train existing model\n",
        "for layer in vgg.layers:\n",
        "  layer.trainable=False"
      ]
    },
    {
      "cell_type": "code",
      "execution_count": 8,
      "metadata": {
        "id": "DmgFnJdrjQ_0"
      },
      "outputs": [],
      "source": [
        " # useful for getting number of output classes\n",
        "folders = glob('/content/drive/MyDrive/Tumor/*')"
      ]
    },
    {
      "cell_type": "code",
      "execution_count": 9,
      "metadata": {
        "colab": {
          "base_uri": "https://localhost:8080/"
        },
        "id": "whxtnpdr1X7v",
        "outputId": "ad78c756-1afe-4505-8cf1-d92fd4869e1b"
      },
      "outputs": [
        {
          "output_type": "execute_result",
          "data": {
            "text/plain": [
              "['/content/drive/MyDrive/Tumor/yes', '/content/drive/MyDrive/Tumor/no']"
            ]
          },
          "metadata": {},
          "execution_count": 9
        }
      ],
      "source": [
        "folders"
      ]
    },
    {
      "cell_type": "code",
      "execution_count": 10,
      "metadata": {
        "id": "4ePGZ73CjRIR"
      },
      "outputs": [],
      "source": [
        "# our layers - you can add more if you want\n",
        "x = Flatten()(vgg.output)"
      ]
    },
    {
      "cell_type": "code",
      "execution_count": 11,
      "metadata": {
        "id": "nTtM7rOZjRO-"
      },
      "outputs": [],
      "source": [
        "prediction = Dense(len(folders), activation='softmax')(x)\n",
        "\n",
        "#creating a model object\n",
        "model = Model(inputs=vgg.input,outputs=prediction)"
      ]
    },
    {
      "cell_type": "code",
      "execution_count": 12,
      "metadata": {
        "colab": {
          "base_uri": "https://localhost:8080/"
        },
        "id": "tjGUr0dP1q2l",
        "outputId": "785d143f-3499-497a-de47-75e8cf240999"
      },
      "outputs": [
        {
          "output_type": "stream",
          "name": "stdout",
          "text": [
            "Model: \"model\"\n",
            "_________________________________________________________________\n",
            " Layer (type)                Output Shape              Param #   \n",
            "=================================================================\n",
            " input_1 (InputLayer)        [(None, 224, 224, 3)]     0         \n",
            "                                                                 \n",
            " block1_conv1 (Conv2D)       (None, 224, 224, 64)      1792      \n",
            "                                                                 \n",
            " block1_conv2 (Conv2D)       (None, 224, 224, 64)      36928     \n",
            "                                                                 \n",
            " block1_pool (MaxPooling2D)  (None, 112, 112, 64)      0         \n",
            "                                                                 \n",
            " block2_conv1 (Conv2D)       (None, 112, 112, 128)     73856     \n",
            "                                                                 \n",
            " block2_conv2 (Conv2D)       (None, 112, 112, 128)     147584    \n",
            "                                                                 \n",
            " block2_pool (MaxPooling2D)  (None, 56, 56, 128)       0         \n",
            "                                                                 \n",
            " block3_conv1 (Conv2D)       (None, 56, 56, 256)       295168    \n",
            "                                                                 \n",
            " block3_conv2 (Conv2D)       (None, 56, 56, 256)       590080    \n",
            "                                                                 \n",
            " block3_conv3 (Conv2D)       (None, 56, 56, 256)       590080    \n",
            "                                                                 \n",
            " block3_conv4 (Conv2D)       (None, 56, 56, 256)       590080    \n",
            "                                                                 \n",
            " block3_pool (MaxPooling2D)  (None, 28, 28, 256)       0         \n",
            "                                                                 \n",
            " block4_conv1 (Conv2D)       (None, 28, 28, 512)       1180160   \n",
            "                                                                 \n",
            " block4_conv2 (Conv2D)       (None, 28, 28, 512)       2359808   \n",
            "                                                                 \n",
            " block4_conv3 (Conv2D)       (None, 28, 28, 512)       2359808   \n",
            "                                                                 \n",
            " block4_conv4 (Conv2D)       (None, 28, 28, 512)       2359808   \n",
            "                                                                 \n",
            " block4_pool (MaxPooling2D)  (None, 14, 14, 512)       0         \n",
            "                                                                 \n",
            " block5_conv1 (Conv2D)       (None, 14, 14, 512)       2359808   \n",
            "                                                                 \n",
            " block5_conv2 (Conv2D)       (None, 14, 14, 512)       2359808   \n",
            "                                                                 \n",
            " block5_conv3 (Conv2D)       (None, 14, 14, 512)       2359808   \n",
            "                                                                 \n",
            " block5_conv4 (Conv2D)       (None, 14, 14, 512)       2359808   \n",
            "                                                                 \n",
            " block5_pool (MaxPooling2D)  (None, 7, 7, 512)         0         \n",
            "                                                                 \n",
            " flatten (Flatten)           (None, 25088)             0         \n",
            "                                                                 \n",
            " dense (Dense)               (None, 2)                 50178     \n",
            "                                                                 \n",
            "=================================================================\n",
            "Total params: 20,074,562\n",
            "Trainable params: 50,178\n",
            "Non-trainable params: 20,024,384\n",
            "_________________________________________________________________\n"
          ]
        }
      ],
      "source": [
        "model.summary()"
      ]
    },
    {
      "cell_type": "code",
      "execution_count": 13,
      "metadata": {
        "id": "E7Ixfm_21q5f"
      },
      "outputs": [],
      "source": [
        "model.compile (loss = 'categorical_crossentropy',optimizer = 'adam',metrics = 'accuracy')"
      ]
    },
    {
      "cell_type": "code",
      "execution_count": 14,
      "metadata": {
        "id": "KaF9aRmi1rE7"
      },
      "outputs": [],
      "source": [
        " from keras.preprocessing.image import ImageDataGenerator"
      ]
    },
    {
      "cell_type": "code",
      "execution_count": 15,
      "metadata": {
        "id": "4qUyM6T5jRWA"
      },
      "outputs": [],
      "source": [
        " train_data = ImageDataGenerator(rescale= 1/255,  shear_range=0.2,zoom_range=0.2, horizontal_flip=True)"
      ]
    },
    {
      "cell_type": "code",
      "execution_count": 16,
      "metadata": {
        "id": "gpD3MD6r8-FM"
      },
      "outputs": [],
      "source": [
        " test_data = ImageDataGenerator(rescale=1/255)"
      ]
    },
    {
      "cell_type": "code",
      "execution_count": 17,
      "metadata": {
        "colab": {
          "base_uri": "https://localhost:8080/"
        },
        "id": "EEMjkWHk8-J5",
        "outputId": "14a67401-8d85-4a0b-e175-61c630172f9e"
      },
      "outputs": [
        {
          "output_type": "stream",
          "name": "stdout",
          "text": [
            "Found 2998 images belonging to 2 classes.\n"
          ]
        }
      ],
      "source": [
        "train_final = train_data.flow_from_directory('/content/drive/MyDrive/Tumor', target_size=(224,224))"
      ]
    },
    {
      "cell_type": "code",
      "execution_count": 18,
      "metadata": {
        "colab": {
          "base_uri": "https://localhost:8080/"
        },
        "id": "wll6Zunf8-QY",
        "outputId": "133c03dc-9a23-454c-987d-d2be60a1b170"
      },
      "outputs": [
        {
          "output_type": "stream",
          "name": "stdout",
          "text": [
            "Found 253 images belonging to 2 classes.\n"
          ]
        }
      ],
      "source": [
        "test_final = test_data.flow_from_directory('/content/drive/MyDrive/BrainTumorMRI/Tumor', target_size=(224,224))"
      ]
    },
    {
      "cell_type": "code",
      "execution_count": 21,
      "metadata": {
        "colab": {
          "base_uri": "https://localhost:8080/"
        },
        "id": "02aY7-YF8-V6",
        "outputId": "99d90857-8003-4737-a2d2-501242e14f37"
      },
      "outputs": [
        {
          "output_type": "stream",
          "name": "stderr",
          "text": [
            "/usr/local/lib/python3.7/dist-packages/ipykernel_launcher.py:1: UserWarning: `Model.fit_generator` is deprecated and will be removed in a future version. Please use `Model.fit`, which supports generators.\n",
            "  \"\"\"Entry point for launching an IPython kernel.\n"
          ]
        },
        {
          "output_type": "stream",
          "name": "stdout",
          "text": [
            "Epoch 1/6\n",
            "94/94 [==============================] - 339s 4s/step - loss: 0.2143 - accuracy: 0.9163 - val_loss: 1.6183 - val_accuracy: 0.5613\n",
            "Epoch 2/6\n",
            "94/94 [==============================] - 50s 528ms/step - loss: 0.1609 - accuracy: 0.9406 - val_loss: 1.2866 - val_accuracy: 0.6324\n",
            "Epoch 3/6\n",
            "94/94 [==============================] - 49s 525ms/step - loss: 0.1324 - accuracy: 0.9556 - val_loss: 1.6092 - val_accuracy: 0.6087\n",
            "Epoch 4/6\n",
            "94/94 [==============================] - 49s 525ms/step - loss: 0.1207 - accuracy: 0.9560 - val_loss: 1.9470 - val_accuracy: 0.5731\n",
            "Epoch 5/6\n",
            "94/94 [==============================] - 48s 512ms/step - loss: 0.0896 - accuracy: 0.9713 - val_loss: 1.6000 - val_accuracy: 0.6245\n",
            "Epoch 6/6\n",
            "94/94 [==============================] - 50s 526ms/step - loss: 0.0809 - accuracy: 0.9773 - val_loss: 1.7122 - val_accuracy: 0.6285\n"
          ]
        }
      ],
      "source": [
        "tumor_vgg = model.fit_generator(train_final, validation_data=test_final,epochs=6, steps_per_epoch=len(train_final), validation_steps=len(test_final))"
      ]
    },
    {
      "cell_type": "code",
      "execution_count": 22,
      "metadata": {
        "id": "RXFRWXby8-cd",
        "colab": {
          "base_uri": "https://localhost:8080/",
          "height": 265
        },
        "outputId": "e0650eb1-1c6d-46d5-a222-189c1753c0e1"
      },
      "outputs": [
        {
          "output_type": "display_data",
          "data": {
            "text/plain": [
              "<Figure size 432x288 with 1 Axes>"
            ],
            "image/png": "[encoded data removed]"
          },
          "metadata": {
            "needs_background": "light"
          }
        }
      ],
      "source": [
        "plt.plot(tumor_vgg.history['accuracy'], label='train_accuracy')\n",
        "plt.plot(tumor_vgg.history['val_accuracy'],label='val_accuracy')\n",
        "plt.legend()\n",
        "plt.show()"
      ]
    },
    {
      "cell_type": "code",
      "execution_count": 23,
      "metadata": {
        "id": "Kyk3hngy8-iA",
        "colab": {
          "base_uri": "https://localhost:8080/",
          "height": 265
        },
        "outputId": "204a539d-9254-48ae-ee70-307756b4149e"
      },
      "outputs": [
        {
          "output_type": "display_data",
          "data": {
            "text/plain": [
              "<Figure size 432x288 with 1 Axes>"
            ],
            "image/png": "[encoded data removed]"
          },
          "metadata": {
            "needs_background": "light"
          }
        }
      ],
      "source": [
        "# plot the loss\n",
        "plt.plot(tumor_vgg.history['loss'], label='train loss')\n",
        "plt.plot(tumor_vgg.history['val_loss'], label='val loss')\n",
        "plt.legend()\n",
        "plt.show()\n",
        "#plt.savefig('LossVal_loss')"
      ]
    },
    {
      "cell_type": "markdown",
      "source": [
        "**BUilding Predictive System**"
      ],
      "metadata": {
        "id": "BLEdxB5tn2Ia"
      }
    },
    {
      "cell_type": "code",
      "execution_count": 24,
      "metadata": {
        "id": "31NMBD5fgd4q"
      },
      "outputs": [],
      "source": [
        "from tensorflow.keras.models import load_model\n",
        "\n",
        "model.save('tumor_vgg19.h5')"
      ]
    },
    {
      "cell_type": "code",
      "source": [
        "\n",
        "import numpy as np"
      ],
      "metadata": {
        "id": "wmWXtI0FmF6o"
      },
      "execution_count": 25,
      "outputs": []
    },
    {
      "cell_type": "code",
      "source": [
        "from tensorflow.keras.models import load_model\n",
        "from tensorflow.keras.preprocessing import image"
      ],
      "metadata": {
        "id": "jUR51s3-mF9k"
      },
      "execution_count": 26,
      "outputs": []
    },
    {
      "cell_type": "code",
      "source": [
        "model=load_model('tumor_vgg19.h5')"
      ],
      "metadata": {
        "id": "dIj_aoLJmGCD"
      },
      "execution_count": 32,
      "outputs": []
    },
    {
      "cell_type": "code",
      "source": [
        "img=image.load_img('/content/tumory.png',target_size=(224,224))\n",
        "\n",
        "\n",
        "x=image.img_to_array(img)"
      ],
      "metadata": {
        "id": "Gxet0ufMmGGe"
      },
      "execution_count": 36,
      "outputs": []
    },
    {
      "cell_type": "code",
      "source": [
        "x=x/255\n",
        "\n",
        "x=np.expand_dims(x,axis=0)\n",
        "img_data=preprocess_input(x)\n",
        "img_data.shape"
      ],
      "metadata": {
        "colab": {
          "base_uri": "https://localhost:8080/"
        },
        "id": "Ux837lFDmGNN",
        "outputId": "693fcdee-381f-4775-9afa-d2ebe618491f"
      },
      "execution_count": 37,
      "outputs": [
        {
          "output_type": "execute_result",
          "data": {
            "text/plain": [
              "(1, 224, 224, 3)"
            ]
          },
          "metadata": {},
          "execution_count": 37
        }
      ]
    },
    {
      "cell_type": "code",
      "source": [
        "model.predict(img_data)\n",
        "\n",
        "a=np.argmax(model.predict(img_data), axis=1)\n",
        "\n",
        "if(a==1):\n",
        "   print('Tumor Not found for this Patient') \n",
        "else:\n",
        "   print(\"Tumor Found For this Patient\")"
      ],
      "metadata": {
        "colab": {
          "base_uri": "https://localhost:8080/"
        },
        "id": "8JMuROAtmGS5",
        "outputId": "aa44cd5d-bbd7-4c7e-bd3e-9538b4dc6658"
      },
      "execution_count": 38,
      "outputs": [
        {
          "output_type": "stream",
          "name": "stdout",
          "text": [
            "Tumor Not found for this Patient\n"
          ]
        }
      ]
    }
  ],
  "metadata": {
    "accelerator": "GPU",
    "colab": {
      "collapsed_sections": [],
      "name": "Tumor Detection using CNN.ipynb",
      "provenance": []
    },
    "gpuClass": "standard",
    "kernelspec": {
      "display_name": "Python 3",
      "name": "python3"
    },
    "language_info": {
      "name": "python"
    }
  },
  "nbformat": 4,
  "nbformat_minor": 0
}